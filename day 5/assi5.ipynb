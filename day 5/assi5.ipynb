{
 "cells": [
  {
   "cell_type": "code",
   "execution_count": null,
   "source": [
    "import pandas as pd\r\n",
    "#series of index square\r\n",
    "ds = pd.Series([0,1,4,9,16,25,36,49], index=[0,1,2,3,4,5,6,7])\r\n",
    "print(\"Series:\")\r\n",
    "print(ds)\r\n",
    "print(\"\\nIndex of 25 in the series:\")\r\n",
    "x = ds[ds == 25].index[0]\r\n",
    "print(x)"
   ],
   "outputs": [],
   "metadata": {}
  }
 ],
 "metadata": {
  "orig_nbformat": 4,
  "language_info": {
   "name": "python",
   "version": "3.8.10",
   "mimetype": "text/x-python",
   "codemirror_mode": {
    "name": "ipython",
    "version": 3
   },
   "pygments_lexer": "ipython3",
   "nbconvert_exporter": "python",
   "file_extension": ".py"
  },
  "kernelspec": {
   "name": "python3",
   "display_name": "Python 3.8.10 64-bit"
  },
  "interpreter": {
   "hash": "4cee28202666d8a622fb6bb87a1f558746e5352d1a6ae25aa8b2a20215ae3d06"
  }
 },
 "nbformat": 4,
 "nbformat_minor": 2
}