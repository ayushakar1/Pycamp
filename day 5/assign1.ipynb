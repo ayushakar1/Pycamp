{
 "cells": [
  {
   "cell_type": "code",
   "execution_count": null,
   "source": [
    "import pandas as pd\r\n",
    "df = pd.DataFrame({\r\n",
    "    'school_code': ['s001','s002','s003','s001','s002','s004'],\r\n",
    "    'class': ['V', 'V', 'VI', 'VI', 'V', 'VI'],\r\n",
    "    'name': ['Alberto Franco','Gino Mcneill','Ryan Parkes', 'Eesha Hinton', 'Gino Mcneill', 'David Parkes'],\r\n",
    "    'date_Of_Birth': ['15/05/2002','17/05/2002','16/02/1999','25/09/1998','11/05/2002','15/09/1997'],\r\n",
    "    'weight': [35, 32, 33, 30, 31, 32],\r\n",
    "    'address': ['street1', 'street2', 'street3', 'street1', 'street2', 'street4'],\r\n",
    "    't_id':['t1', 't2', 't3', 't4', 't5', 't6']})\r\n",
    "print(\"Default Index:\")\r\n",
    "print(df.head(10))\r\n",
    "print(\"\\nt_id as new Index:\")\r\n",
    "df1 = df.set_index('t_id')\r\n",
    "print(df1)\r\n",
    "print(\"\\nReset the index:\")\r\n",
    "df2 = df1.reset_index(inplace=False)\r\n",
    "print(df2)"
   ],
   "outputs": [],
   "metadata": {}
  }
 ],
 "metadata": {
  "orig_nbformat": 4,
  "language_info": {
   "name": "python"
  }
 },
 "nbformat": 4,
 "nbformat_minor": 2
}