{
 "cells": [
  {
   "cell_type": "code",
   "execution_count": null,
   "source": [
    "import pandas as pd\r\n",
    "df = pd.DataFrame({\r\n",
    "    'school_code': ['s001','s002','s003','s001','s002','s004'],\r\n",
    "    'class': ['V', 'V', 'VI', 'VI', 'V', 'VI'],\r\n",
    "    'name': ['Alberto Franco','Gino Mcneill','Ryan Parkes', 'Eesha Hinton', 'Gino Mcneill', 'David Parkes'],\r\n",
    "    'date_Of_Birth': ['15/05/2002','17/05/2002','16/02/1999','25/09/1998','11/05/2002','15/09/1997'],\r\n",
    "    'weight': [35, 32, 33, 30, 31, 32],\r\n",
    "    'address': ['street1', 'street2', 'street3', 'street1', 'street2', 'street4'],\r\n",
    "    't_id':['t1', 't2', 't3', 't4', 't5', 't6']})\r\n",
    "print(\"Original DataFrame:\")\r\n",
    "print(df)\r\n",
    "print(\"\\nMultiIndex using columns 't_id' and ‘school_code’:\")\r\n",
    "df1 = df.set_index(['t_id', 'school_code'])\r\n",
    "print(df1)\r\n",
    "print(\"\\nMultiIndex using an Index and a column:\")\r\n",
    "df2 = df.set_index([pd.Index([0, 1, 2, 3, 4, 5]), 't_id'])\r\n",
    "print(df2)"
   ],
   "outputs": [],
   "metadata": {}
  }
 ],
 "metadata": {
  "orig_nbformat": 4,
  "language_info": {
   "name": "python"
  }
 },
 "nbformat": 4,
 "nbformat_minor": 2
}