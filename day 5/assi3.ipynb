{
 "cells": [
  {
   "cell_type": "code",
   "execution_count": null,
   "source": [
    "import pandas as pd\r\n",
    "df = pd.DataFrame({\r\n",
    "    'school_code': ['s001','s002','s003','s001','s002','s004'],\r\n",
    "    'class': ['V', 'V', 'VI', 'VI', 'V', 'VI'],\r\n",
    "    'name': ['Alberto Franco','Gino Mcneill','Ryan Parkes', 'Eesha Hinton', 'Gino Mcneill', 'David Parkes'],\r\n",
    "    'date_of_birth': ['15/05/2002','17/05/2002','16/02/1999','25/09/1998','11/05/2002','15/09/1997'],\r\n",
    "    'weight': [35, 32, 33, 30, 31, 32]},\r\n",
    "     index = ['t1', 't2', 't3', 't4', 't5', 't6'])\r\n",
    "print(\"Original DataFrame:\")\r\n",
    "print(df)\r\n",
    "print(\"\\nConvert index of the said dataframe into a column:\")\r\n",
    "df.reset_index(level=0, inplace=True)\r\n",
    "print(df)"
   ],
   "outputs": [],
   "metadata": {}
  }
 ],
 "metadata": {
  "orig_nbformat": 4,
  "language_info": {
   "name": "python"
  }
 },
 "nbformat": 4,
 "nbformat_minor": 2
}