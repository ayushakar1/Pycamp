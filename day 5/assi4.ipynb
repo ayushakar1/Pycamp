{
 "cells": [
  {
   "cell_type": "code",
   "execution_count": null,
   "source": [
    "import pandas as pd \r\n",
    "import numpy as np\r\n",
    "example = [['one', 'two', 'three', 'four'],\r\n",
    "          ['data', 'dataone', 'datatwo', 'datathree']]\r\n",
    "etuples = list(zip(*example))\r\n",
    "indexe = pd.MultiIndex.from_tuples(etuples, names=['sale', 'city'])\r\n",
    "print(\"\\nConstruct a Dataframe using the said MultiIndex levels:\")\r\n",
    "df = pd.DataFrame(np.random.randn(4, 1), index=indexe)\r\n",
    "print(df)\r\n",
    "\r\n",
    "print(\"\\ncolumn selection :\")\r\n",
    "print(df.take([1, 2], axis=1))\r\n"
   ],
   "outputs": [],
   "metadata": {}
  }
 ],
 "metadata": {
  "orig_nbformat": 4,
  "language_info": {
   "name": "python"
  }
 },
 "nbformat": 4,
 "nbformat_minor": 2
}