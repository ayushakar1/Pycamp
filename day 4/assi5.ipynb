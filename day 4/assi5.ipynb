{
 "cells": [
  {
   "cell_type": "code",
   "execution_count": null,
   "source": [
    "import pandas as pd\r\n",
    "import numpy as np\r\n",
    "exam_data  = {'name': ['Anastasia', 'Dima', 'Katherine', 'James', 'Emily', 'Michael', 'Matthew', 'Laura', 'Kevin', 'Jonas'],\r\n",
    "        'score': [12.5, 9, 16.5, np.nan, 9, 20, 14.5, np.nan, 8, 19],\r\n",
    "        'attempts': [1, 3, 2, 3, 2, 3, 1, 1, 2, 1],\r\n",
    "        'qualify': ['yes', 'no', 'yes', 'no', 'no', 'yes', 'yes', 'no', 'no', 'yes']}\r\n",
    "labels = ['a', 'b', 'c', 'd', 'e', 'f', 'g', 'h', 'i', 'j']\r\n",
    "df = pd.DataFrame(exam_data , index=labels)\r\n",
    "rows=len(df.axes[0])\r\n",
    "cols=len(df.axes[1])\r\n",
    "print(\"Number of Rows: \"+str(rows))\r\n",
    "print(\"Number of Columns: \"+str(cols))"
   ],
   "outputs": [],
   "metadata": {}
  }
 ],
 "metadata": {
  "orig_nbformat": 4,
  "language_info": {
   "name": "python",
   "version": "3.8.10",
   "mimetype": "text/x-python",
   "codemirror_mode": {
    "name": "ipython",
    "version": 3
   },
   "pygments_lexer": "ipython3",
   "nbconvert_exporter": "python",
   "file_extension": ".py"
  },
  "kernelspec": {
   "name": "python3",
   "display_name": "Python 3.8.10 64-bit"
  },
  "interpreter": {
   "hash": "4cee28202666d8a622fb6bb87a1f558746e5352d1a6ae25aa8b2a20215ae3d06"
  }
 },
 "nbformat": 4,
 "nbformat_minor": 2
}