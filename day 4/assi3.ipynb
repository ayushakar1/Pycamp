{
 "cells": [
  {
   "cell_type": "code",
   "execution_count": null,
   "source": [
    "import pandas as pd\r\n",
    "d1 = {'a': 100, 'b': 200, 'c':300, 'd':400, 'e':800}\r\n",
    "print(\"Dictionary:\")\r\n",
    "print(d1)\r\n",
    "print(\"Python series:\")\r\n",
    "print(pd.Series(d1))"
   ],
   "outputs": [],
   "metadata": {}
  }
 ],
 "metadata": {
  "orig_nbformat": 4,
  "language_info": {
   "name": "python",
   "version": "3.8.10",
   "mimetype": "text/x-python",
   "codemirror_mode": {
    "name": "ipython",
    "version": 3
   },
   "pygments_lexer": "ipython3",
   "nbconvert_exporter": "python",
   "file_extension": ".py"
  },
  "kernelspec": {
   "name": "python3",
   "display_name": "Python 3.8.10 64-bit"
  },
  "interpreter": {
   "hash": "4cee28202666d8a622fb6bb87a1f558746e5352d1a6ae25aa8b2a20215ae3d06"
  }
 },
 "nbformat": 4,
 "nbformat_minor": 2
}