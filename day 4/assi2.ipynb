{
 "cells": [
  {
   "cell_type": "code",
   "execution_count": 1,
   "source": [
    "import pandas as pd\r\n",
    "ds = pd.Series([\"name\", 4, 6.6, 'body', 10.444])\r\n",
    "print(ds)\r\n",
    "print(\"Converted list:\")\r\n",
    "print(ds.tolist())\r\n",
    "print(type(ds.tolist()))"
   ],
   "outputs": [
    {
     "output_type": "stream",
     "name": "stdout",
     "text": [
      "0      name\n",
      "1         4\n",
      "2       6.6\n",
      "3      body\n",
      "4    10.444\n",
      "dtype: object\n",
      "Converted list:\n",
      "['name', 4, 6.6, 'body', 10.444]\n",
      "<class 'list'>\n"
     ]
    }
   ],
   "metadata": {}
  }
 ],
 "metadata": {
  "orig_nbformat": 4,
  "language_info": {
   "name": "python",
   "version": "3.9.1",
   "mimetype": "text/x-python",
   "codemirror_mode": {
    "name": "ipython",
    "version": 3
   },
   "pygments_lexer": "ipython3",
   "nbconvert_exporter": "python",
   "file_extension": ".py"
  },
  "kernelspec": {
   "name": "python3",
   "display_name": "Python 3.9.1 64-bit"
  },
  "interpreter": {
   "hash": "63fd5069d213b44bf678585dea6b12cceca9941eaf7f819626cde1f2670de90d"
  }
 },
 "nbformat": 4,
 "nbformat_minor": 2
}